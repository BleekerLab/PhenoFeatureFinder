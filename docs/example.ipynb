{
 "cells": [
  {
   "cell_type": "code",
   "execution_count": 1,
   "metadata": {},
   "outputs": [
    {
     "ename": "ImportError",
     "evalue": "cannot import name '_extract_samples_to_condition' from 'metabolome_analysis' (/Users/mgalland/Documents/workspace/phloemfinder/docs/../src/phloemfinder/metabolome_analysis.py)",
     "output_type": "error",
     "traceback": [
      "\u001b[0;31m---------------------------------------------------------------------------\u001b[0m",
      "\u001b[0;31mImportError\u001b[0m                               Traceback (most recent call last)",
      "\u001b[1;32m/Users/mgalland/Documents/workspace/phloemfinder/docs/example.ipynb Cell 1\u001b[0m in \u001b[0;36m<cell line: 12>\u001b[0;34m()\u001b[0m\n\u001b[1;32m     <a href='vscode-notebook-cell:/Users/mgalland/Documents/workspace/phloemfinder/docs/example.ipynb#W0sZmlsZQ%3D%3D?line=9'>10</a>\u001b[0m \u001b[39mfrom\u001b[39;00m \u001b[39mutils\u001b[39;00m \u001b[39mimport\u001b[39;00m compute_metrics_classification\n\u001b[1;32m     <a href='vscode-notebook-cell:/Users/mgalland/Documents/workspace/phloemfinder/docs/example.ipynb#W0sZmlsZQ%3D%3D?line=10'>11</a>\u001b[0m \u001b[39mfrom\u001b[39;00m \u001b[39mmetabolome_analysis\u001b[39;00m \u001b[39mimport\u001b[39;00m MetaboliteAnalysis\n\u001b[0;32m---> <a href='vscode-notebook-cell:/Users/mgalland/Documents/workspace/phloemfinder/docs/example.ipynb#W0sZmlsZQ%3D%3D?line=11'>12</a>\u001b[0m \u001b[39mfrom\u001b[39;00m \u001b[39mmetabolome_analysis\u001b[39;00m \u001b[39mimport\u001b[39;00m _extract_samples_to_condition\n\u001b[1;32m     <a href='vscode-notebook-cell:/Users/mgalland/Documents/workspace/phloemfinder/docs/example.ipynb#W0sZmlsZQ%3D%3D?line=13'>14</a>\u001b[0m \u001b[39mfrom\u001b[39;00m \u001b[39mfeature_selection_using_ml\u001b[39;00m \u001b[39mimport\u001b[39;00m MetabolitePhenotypeFeatureSelection\n\u001b[1;32m     <a href='vscode-notebook-cell:/Users/mgalland/Documents/workspace/phloemfinder/docs/example.ipynb#W0sZmlsZQ%3D%3D?line=15'>16</a>\u001b[0m \u001b[39mfrom\u001b[39;00m \u001b[39mmetabolome_analysis\u001b[39;00m \u001b[39mimport\u001b[39;00m MetaboliteAnalysis \n",
      "\u001b[0;31mImportError\u001b[0m: cannot import name '_extract_samples_to_condition' from 'metabolome_analysis' (/Users/mgalland/Documents/workspace/phloemfinder/docs/../src/phloemfinder/metabolome_analysis.py)"
     ]
    }
   ],
   "source": [
    "import sys\n",
    "#sys.path.append(\"../metabolome_analysis_pymodule/\")\n",
    "sys.path.append(\"../src/phloemfinder/\")\n",
    "\n",
    "from utils import median_of_ratios_normalisation\n",
    "\n",
    "import matplotlib\n",
    "\n",
    "import numpy as np\n",
    "from utils import compute_metrics_classification, extract_samples_to_condition\n",
    "from metabolome_analysis import MetaboliteAnalysis\n",
    "\n",
    "from feature_selection_using_ml import MetabolitePhenotypeFeatureSelection\n",
    "\n",
    "from metabolome_analysis import MetaboliteAnalysis \n",
    "from feature_selection_using_ml import MetabolitePhenotypeFeatureSelection\n",
    "\n",
    "from autosklearn.classification import AutoSklearnClassifier\n",
    "from autosklearn.metrics import balanced_accuracy, precision, recall, f1\n",
    "from sklearn.model_selection import train_test_split\n",
    "from sklearn.metrics import balanced_accuracy_score, precision_score, recall_score"
   ]
  },
  {
   "cell_type": "code",
   "execution_count": null,
   "metadata": {},
   "outputs": [],
   "source": [
    "met = MetaboliteAnalysis(\n",
    "    metabolome_csv=\"../tests/metabolome_test_data.csv\", \n",
    "    metabolome_feature_id_col=\"feature_id\")"
   ]
  },
  {
   "cell_type": "code",
   "execution_count": null,
   "metadata": {},
   "outputs": [],
   "source": [
    "met.validate_input_metabolome_df()\n",
    "met.metabolome.shape"
   ]
  },
  {
   "cell_type": "code",
   "execution_count": null,
   "metadata": {},
   "outputs": [],
   "source": [
    "print(\"Number of total features before blank filtering = {0}\".format(met.metabolome.shape[0]))"
   ]
  },
  {
   "cell_type": "markdown",
   "metadata": {},
   "source": [
    "# Filter out features (filters blank, unreliable features)"
   ]
  },
  {
   "cell_type": "markdown",
   "metadata": {},
   "source": [
    "## Blank filtering"
   ]
  },
  {
   "cell_type": "code",
   "execution_count": null,
   "metadata": {},
   "outputs": [],
   "source": [
    "met.discard_features_detected_in_blanks(blank_sample_contains=\"blank\")\n",
    "print(\"Number of total features after blank filtering = {0}\".format(met.metabolome.shape[0]))"
   ]
  },
  {
   "attachments": {},
   "cell_type": "markdown",
   "metadata": {},
   "source": [
    "## PCA before normalisation"
   ]
  },
  {
   "cell_type": "code",
   "execution_count": null,
   "metadata": {},
   "outputs": [],
   "source": [
    "met.compute_pca_on_metabolites()\n",
    "met.create_scree_plot()\n",
    "met.create_sample_score_plot()"
   ]
  },
  {
   "attachments": {},
   "cell_type": "markdown",
   "metadata": {},
   "source": [
    "## Normalise metabolites by median of ratios method and plot PCA sample score plot"
   ]
  },
  {
   "cell_type": "code",
   "execution_count": null,
   "metadata": {},
   "outputs": [],
   "source": [
    "met.normalise_values_by_median_of_ratios_method()\n",
    "met.compute_pca_on_metabolites()\n",
    "met.create_scree_plot()\n",
    "met.create_sample_score_plot()"
   ]
  },
  {
   "attachments": {},
   "cell_type": "markdown",
   "metadata": {},
   "source": [
    "## Filter by feature peak area level"
   ]
  },
  {
   "cell_type": "code",
   "execution_count": null,
   "metadata": {},
   "outputs": [],
   "source": [
    "met.metabolome.shape"
   ]
  },
  {
   "cell_type": "code",
   "execution_count": null,
   "metadata": {},
   "outputs": [],
   "source": []
  },
  {
   "cell_type": "code",
   "execution_count": null,
   "metadata": {},
   "outputs": [],
   "source": []
  },
  {
   "cell_type": "code",
   "execution_count": null,
   "metadata": {},
   "outputs": [],
   "source": []
  },
  {
   "cell_type": "code",
   "execution_count": null,
   "metadata": {},
   "outputs": [],
   "source": [
    "import seaborn as sns \n",
    "import matplotlib.pyplot as plt \n",
    "g = sns.FacetGrid(melted_df_with_cond, col='genotype', col_wrap=3)\n",
    "#g = sns.histplot(data=melted_df_with_cond, x='value')\n",
    "g = g.map_dataframe(sns.histplot, x='value', kde=True)\n",
    "#sns.histplot(\n",
    "#    data=melted_df_with_cond, \n",
    "#    x='value', \n",
    "#    hue='genotype', \n",
    "#    bins=1000,\n",
    "#    fill=True,\n",
    "#    alpha=0.2)\n",
    "plt.xscale('log')\n",
    "plt.show()"
   ]
  },
  {
   "cell_type": "code",
   "execution_count": null,
   "metadata": {},
   "outputs": [],
   "source": []
  },
  {
   "cell_type": "code",
   "execution_count": null,
   "metadata": {},
   "outputs": [],
   "source": []
  },
  {
   "cell_type": "markdown",
   "metadata": {},
   "source": [
    "## Unreliable feature filtering"
   ]
  },
  {
   "cell_type": "code",
   "execution_count": null,
   "metadata": {},
   "outputs": [],
   "source": [
    "metabolome_analysis.filter_out_unreliable_features(nb_times_detected=4)"
   ]
  },
  {
   "cell_type": "code",
   "execution_count": null,
   "metadata": {},
   "outputs": [],
   "source": [
    "metabolome_analysis.metabolome.shape"
   ]
  },
  {
   "cell_type": "markdown",
   "metadata": {},
   "source": [
    "# PCA analysis"
   ]
  },
  {
   "cell_type": "code",
   "execution_count": null,
   "metadata": {},
   "outputs": [],
   "source": [
    "metabolome_analysis.compute_pca_on_metabolites(n_principal_components=10)"
   ]
  },
  {
   "cell_type": "code",
   "execution_count": null,
   "metadata": {},
   "outputs": [],
   "source": [
    "metabolome_analysis.pca_performed"
   ]
  },
  {
   "cell_type": "code",
   "execution_count": null,
   "metadata": {},
   "outputs": [],
   "source": [
    "type(metabolome_analysis.create_scree_plot())"
   ]
  },
  {
   "cell_type": "code",
   "execution_count": null,
   "metadata": {},
   "outputs": [],
   "source": [
    "metabolome_analysis.exp_variance\n",
    "#metabolome_analysis.exp_variance.iloc[0,0]"
   ]
  },
  {
   "cell_type": "code",
   "execution_count": null,
   "metadata": {},
   "outputs": [],
   "source": [
    "metabolome_analysis.metabolome_pca_reduced.shape"
   ]
  },
  {
   "cell_type": "code",
   "execution_count": null,
   "metadata": {},
   "outputs": [],
   "source": [
    "metabolome_analysis.create_sample_score_plot(\n",
    "    pc_x_axis=1, \n",
    "    pc_y_axis=2, \n",
    "    name_grouping_var='genotype')"
   ]
  },
  {
   "cell_type": "code",
   "execution_count": null,
   "metadata": {},
   "outputs": [],
   "source": [
    "metabolome_analysis.write_clean_metabolome_to_csv(path_of_cleaned_csv=\"./clean_metabolome.csv\")"
   ]
  },
  {
   "cell_type": "markdown",
   "metadata": {},
   "source": [
    "# Feature selection"
   ]
  },
  {
   "cell_type": "code",
   "execution_count": null,
   "metadata": {},
   "outputs": [],
   "source": [
    "fs = MetabolitePhenotypeFeatureSelection(\n",
    "    metabolome_csv=\"../tests/clean_metabolome.csv\", \n",
    "    phenotype_csv=\"../tests/phenotypes_test_data.csv\", \n",
    "    phenotype_sample_id='sample')"
   ]
  },
  {
   "cell_type": "code",
   "execution_count": null,
   "metadata": {},
   "outputs": [],
   "source": [
    "fs.validate_input_metabolome_df()"
   ]
  },
  {
   "cell_type": "code",
   "execution_count": null,
   "metadata": {},
   "outputs": [],
   "source": [
    "fs.validate_input_phenotype_df()"
   ]
  },
  {
   "attachments": {},
   "cell_type": "markdown",
   "metadata": {},
   "source": [
    "## Base performance"
   ]
  },
  {
   "cell_type": "code",
   "execution_count": null,
   "metadata": {},
   "outputs": [],
   "source": [
    "fs.get_baseline_performance(\n",
    "    class_of_interest='resistant',\n",
    "    train_size=0.7, \n",
    "    random_state=12534)"
   ]
  },
  {
   "attachments": {},
   "cell_type": "markdown",
   "metadata": {},
   "source": [
    "## TPOT best model from the class"
   ]
  },
  {
   "cell_type": "code",
   "execution_count": null,
   "metadata": {},
   "outputs": [],
   "source": [
    "fs.search_best_model_with_tpot_and_get_feature_importances(\n",
    "    class_of_interest='resistant', \n",
    "    max_time_mins=4, \n",
    "    random_state=1234)"
   ]
  },
  {
   "cell_type": "code",
   "execution_count": null,
   "metadata": {},
   "outputs": [],
   "source": [
    "fs.feature_importances.sort_values('mean_var_imp', ascending=False)"
   ]
  },
  {
   "cell_type": "code",
   "execution_count": null,
   "metadata": {},
   "outputs": [],
   "source": []
  },
  {
   "cell_type": "code",
   "execution_count": null,
   "metadata": {},
   "outputs": [],
   "source": []
  },
  {
   "cell_type": "code",
   "execution_count": null,
   "metadata": {},
   "outputs": [],
   "source": []
  }
 ],
 "metadata": {
  "kernelspec": {
   "display_name": "Python 3.9.13 ('sklearn')",
   "language": "python",
   "name": "python3"
  },
  "language_info": {
   "codemirror_mode": {
    "name": "ipython",
    "version": 3
   },
   "file_extension": ".py",
   "mimetype": "text/x-python",
   "name": "python",
   "nbconvert_exporter": "python",
   "pygments_lexer": "ipython3",
   "version": "3.9.13"
  },
  "orig_nbformat": 4,
  "vscode": {
   "interpreter": {
    "hash": "a3de0ab7ada706e31168bd84054b3e3a1294a82ec5ec04a23e85d8e73d28f5a1"
   }
  }
 },
 "nbformat": 4,
 "nbformat_minor": 2
}
