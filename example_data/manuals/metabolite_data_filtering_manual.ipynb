{
 "cells": [
  {
   "attachments": {},
   "cell_type": "markdown",
   "metadata": {},
   "source": [
    "# Manual for metabolomics data filtering using phloemfinder"
   ]
  },
  {
   "cell_type": "code",
   "execution_count": null,
   "metadata": {},
   "outputs": [],
   "source": [
    "import numpy as np\n",
    "\n",
    "from phloemfinder.metabolome_analysis import MetaboliteAnalysis\n"
   ]
  },
  {
   "attachments": {},
   "cell_type": "markdown",
   "metadata": {},
   "source": [
    "## Importing the unfiltered data"
   ]
  },
  {
   "cell_type": "code",
   "execution_count": null,
   "metadata": {},
   "outputs": [],
   "source": [
    "negative_mode_set1 = MetaboliteAnalysis(\n",
    "    metabolome_csv=\"../.path/to/data/negative_mode_set1_data.csv\",\n",
    "    metabolome_feature_id_col=\"feature_id\")\n",
    "\n",
    "negative_mode_set1.validate_input_metabolome_df()\n",
    "\n",
    "print(\"Number of total features before blank filtering = {0}\".format(negative_mode_set1.metabolome.shape[0]))"
   ]
  },
  {
   "attachments": {},
   "cell_type": "markdown",
   "metadata": {},
   "source": [
    "## Filtering features\n",
    "There are several filtering options.\n",
    "\n",
    "### Filter features based on blanks\n",
    "The first is to remove all features that are present in the blanks. This is a recomended step, because these features are most likely background noise or components from the sample collection buffer."
   ]
  },
  {
   "cell_type": "code",
   "execution_count": null,
   "metadata": {},
   "outputs": [],
   "source": [
    "negative_mode_set1.discard_features_detected_in_blanks(blank_sample_contains=\"blank\")\n",
    "print(\"numberof total features after blank filtering = {0}\".format(negative_mode_set1.metabolome.shape[0]))"
   ]
  },
  {
   "attachments": {},
   "cell_type": "markdown",
   "metadata": {},
   "source": [
    "### Density plots per group\n",
    "To get an idea of the distribution of your data, you can visualise is with density plots"
   ]
  },
  {
   "cell_type": "code",
   "execution_count": null,
   "metadata": {},
   "outputs": [],
   "source": [
    "negative_mode_set1.create_density_plot()"
   ]
  },
  {
   "attachments": {},
   "cell_type": "markdown",
   "metadata": {},
   "source": [
    "### Filter features by percentile\n",
    "An optional filtering step is the filtering by percentile. With this step, only the most abundand features per genotype will remain."
   ]
  },
  {
   "cell_type": "code",
   "execution_count": null,
   "metadata": {},
   "outputs": [],
   "source": [
    "negative_mode_set1.filter_features_per_group_by_percentile(percentile=95)\n",
    "print(\"number of features after feature filtering by percentile= {0}\".format(negative_mode_set1.metabolome.shape[0]))"
   ]
  },
  {
   "attachments": {},
   "cell_type": "markdown",
   "metadata": {},
   "source": [
    "### Filter unreliable features\n",
    "Another option is to filter out the unreliable features. This means that you remove all features that are not present in at least n samples of at least 1 genotype."
   ]
  },
  {
   "cell_type": "code",
   "execution_count": null,
   "metadata": {},
   "outputs": [],
   "source": [
    "negative_mode_set1.filter_out_unreliable_features(nb_times_detected=4)\n",
    "print(\"numberof total features after unreliable feature filtering = {0}\".format(negative_mode_set1.metabolome.shape[0]))"
   ]
  },
  {
   "attachments": {},
   "cell_type": "markdown",
   "metadata": {},
   "source": [
    "## saving the filtered data\n",
    "If you are happy with the filtered data, you can save it as a .csv file"
   ]
  },
  {
   "cell_type": "code",
   "execution_count": null,
   "metadata": {},
   "outputs": [],
   "source": [
    "negative_mode_set1.write_clean_metabolome_to_csv(path_of_cleaned_csv=\"./clean_negative_set1_n4_p95.csv\")"
   ]
  },
  {
   "attachments": {},
   "cell_type": "markdown",
   "metadata": {},
   "source": [
    "## data visualization\n",
    "### PCA"
   ]
  },
  {
   "cell_type": "code",
   "execution_count": null,
   "metadata": {},
   "outputs": [],
   "source": [
    "negative_mode_set1.compute_pca_on_metabolites(n_principal_components=10)\n",
    "negative_mode_set1.pca_performed\n",
    "negative_mode_set1.create_scree_plot()"
   ]
  },
  {
   "cell_type": "code",
   "execution_count": null,
   "metadata": {},
   "outputs": [],
   "source": [
    "negative_mode_set1.metabolome_pca_reduced.shape"
   ]
  },
  {
   "cell_type": "code",
   "execution_count": null,
   "metadata": {},
   "outputs": [],
   "source": [
    "negative_mode_set1.create_sample_score_plot(\n",
    "    pc_x_axis=1,\n",
    "    pc_y_axis=2,\n",
    "    name_grouping_var='genotype')"
   ]
  },
  {
   "attachments": {},
   "cell_type": "markdown",
   "metadata": {},
   "source": [
    "### UpSet plot\n",
    "The current version of this function transforms your data, so be carefull if you use it before saving the filtered data or finishing the filtering steps."
   ]
  },
  {
   "cell_type": "code",
   "execution_count": null,
   "metadata": {},
   "outputs": [],
   "source": [
    "negative_mode_set1.plot_features_in_upset_plot()"
   ]
  }
 ],
 "metadata": {
  "language_info": {
   "name": "python"
  },
  "orig_nbformat": 4
 },
 "nbformat": 4,
 "nbformat_minor": 2
}
