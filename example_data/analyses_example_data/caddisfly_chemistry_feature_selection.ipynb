{
 "cells": [
  {
   "cell_type": "code",
   "execution_count": 1,
   "metadata": {},
   "outputs": [
    {
     "name": "stderr",
     "output_type": "stream",
     "text": [
      "/Users/lissydenkers/miniconda3/envs/sklearn/lib/python3.9/site-packages/tpot/builtins/__init__.py:36: UserWarning: Warning: optional dependency `torch` is not available. - skipping import of NN models.\n",
      "  warnings.warn(\"Warning: optional dependency `torch` is not available. - skipping import of NN models.\")\n"
     ]
    }
   ],
   "source": [
    "import numpy as np\n",
    "\n",
    "import sys\n",
    "sys.path.append('../../src/phloemfinder/')\n",
    "\n",
    "from feature_selection_using_ml import MetabolitePhenotypeFeatureSelection "
   ]
  },
  {
   "cell_type": "code",
   "execution_count": 35,
   "metadata": {},
   "outputs": [],
   "source": [
    "caddisfly_chemistry = MetabolitePhenotypeFeatureSelection(\n",
    "    metabolome_csv=\"../caddisfly/filetered_features_water_chemistry_long_1600.csv\",    \n",
    "    phenotype_csv=\"../caddisfly/phenotypes_for_feature_selection_long.csv\",\n",
    "    phenotype_sample_id='sample_id')"
   ]
  },
  {
   "cell_type": "code",
   "execution_count": 36,
   "metadata": {},
   "outputs": [
    {
     "name": "stdout",
     "output_type": "stream",
     "text": [
      "Metabolome data validated.\n",
      "Phenotype data validated.\n"
     ]
    }
   ],
   "source": [
    "caddisfly_chemistry.validate_input_metabolome_df()\n",
    "caddisfly_chemistry.validate_input_phenotype_df()"
   ]
  },
  {
   "cell_type": "code",
   "execution_count": 37,
   "metadata": {},
   "outputs": [
    {
     "name": "stdout",
     "output_type": "stream",
     "text": [
      "====== Training a basic Random Forest model =======\n",
      "Average balanced_accuracy score on training data is: 100.000 % -/+ 0.00\n",
      "\n",
      "\n",
      "====== Performance on test data of the basic Random Forest model =======\n",
      "Average balanced_accuracy score on test data is: 100.000 %\n"
     ]
    }
   ],
   "source": [
    "caddisfly_chemistry.get_baseline_performance(\n",
    "    class_of_interest='limburg',\n",
    "    train_size=0.7,\n",
    "    random_state=123)"
   ]
  },
  {
   "cell_type": "code",
   "execution_count": 42,
   "metadata": {},
   "outputs": [
    {
     "name": "stderr",
     "output_type": "stream",
     "text": [
      "Version 0.12.0 of tpot is outdated. Version 0.12.1 was released Tuesday August 15, 2023.\n"
     ]
    },
    {
     "name": "stdout",
     "output_type": "stream",
     "text": [
      "                                                                              \n",
      "Generation 1 - Current best internal CV score: 0.9791666666666666\n",
      "                                                                              \n",
      "Generation 2 - Current best internal CV score: 0.9791666666666666\n",
      "                                                                              \n",
      "Generation 3 - Current best internal CV score: 0.9791666666666666\n",
      "                                                                              \n",
      "Generation 4 - Current best internal CV score: 0.9791666666666666\n",
      "                                                                              \n",
      "Generation 5 - Current best internal CV score: 0.9791666666666666\n",
      "                                                                              \n",
      "Generation 6 - Current best internal CV score: 0.9791666666666666\n",
      "                                                                              \n",
      "Generation 7 - Current best internal CV score: 0.9791666666666666\n",
      "                                                                              \n",
      "Generation 8 - Current best internal CV score: 0.9791666666666666\n",
      "                                                                               \n",
      "Generation 9 - Current best internal CV score: 1.0\n",
      "                                                                                \n",
      "Generation 10 - Current best internal CV score: 1.0\n",
      "                                                                                \n",
      "Generation 11 - Current best internal CV score: 1.0\n",
      "                                                                                \n",
      "Generation 12 - Current best internal CV score: 1.0\n",
      "                                                                                \n",
      "Generation 13 - Current best internal CV score: 1.0\n",
      "                                                                                \n",
      "Generation 14 - Current best internal CV score: 1.0\n",
      "                                                                                \n",
      "15.02 minutes have elapsed. TPOT will close down.                               \n",
      "TPOT closed during evaluation in one generation.\n",
      "WARNING: TPOT may not provide a good pipeline if TPOT is stopped/interrupted in a early generation.\n",
      "                                                                                \n",
      "                                                                                \n",
      "TPOT closed prematurely. Will use the current best pipeline.\n",
      "                                                                                \n",
      "Best pipeline: RandomForestClassifier(Nystroem(input_matrix, gamma=0.05, kernel=linear, n_components=7), bootstrap=True, criterion=gini, max_features=0.9, min_samples_leaf=9, min_samples_split=9, n_estimators=1000)\n",
      "============ Performance of ML model on train data =============\n",
      "Train balanced_accuracy score 100.000 %\n",
      "\n",
      "\n",
      "============ Performance of ML model on test data =============\n",
      "                   value\n",
      "balanced_accuracy    1.0\n",
      "precision            1.0\n",
      "recall               1.0\n",
      "f1 score             1.0\n",
      "\n",
      "\n",
      "======== Computing Principal Components importances on the training set =======\n"
     ]
    }
   ],
   "source": [
    "caddisfly_chemistry.search_best_model_with_tpot_and_compute_pc_importances(\n",
    "    class_of_interest='limburg',\n",
    "    max_time_mins=15,\n",
    "    max_eval_time_mins=3,\n",
    "    random_state=123)"
   ]
  },
  {
   "cell_type": "code",
   "execution_count": 43,
   "metadata": {},
   "outputs": [
    {
     "data": {
      "text/html": [
       "<style>#sk-container-id-7 {color: black;background-color: white;}#sk-container-id-7 pre{padding: 0;}#sk-container-id-7 div.sk-toggleable {background-color: white;}#sk-container-id-7 label.sk-toggleable__label {cursor: pointer;display: block;width: 100%;margin-bottom: 0;padding: 0.3em;box-sizing: border-box;text-align: center;}#sk-container-id-7 label.sk-toggleable__label-arrow:before {content: \"▸\";float: left;margin-right: 0.25em;color: #696969;}#sk-container-id-7 label.sk-toggleable__label-arrow:hover:before {color: black;}#sk-container-id-7 div.sk-estimator:hover label.sk-toggleable__label-arrow:before {color: black;}#sk-container-id-7 div.sk-toggleable__content {max-height: 0;max-width: 0;overflow: hidden;text-align: left;background-color: #f0f8ff;}#sk-container-id-7 div.sk-toggleable__content pre {margin: 0.2em;color: black;border-radius: 0.25em;background-color: #f0f8ff;}#sk-container-id-7 input.sk-toggleable__control:checked~div.sk-toggleable__content {max-height: 200px;max-width: 100%;overflow: auto;}#sk-container-id-7 input.sk-toggleable__control:checked~label.sk-toggleable__label-arrow:before {content: \"▾\";}#sk-container-id-7 div.sk-estimator input.sk-toggleable__control:checked~label.sk-toggleable__label {background-color: #d4ebff;}#sk-container-id-7 div.sk-label input.sk-toggleable__control:checked~label.sk-toggleable__label {background-color: #d4ebff;}#sk-container-id-7 input.sk-hidden--visually {border: 0;clip: rect(1px 1px 1px 1px);clip: rect(1px, 1px, 1px, 1px);height: 1px;margin: -1px;overflow: hidden;padding: 0;position: absolute;width: 1px;}#sk-container-id-7 div.sk-estimator {font-family: monospace;background-color: #f0f8ff;border: 1px dotted black;border-radius: 0.25em;box-sizing: border-box;margin-bottom: 0.5em;}#sk-container-id-7 div.sk-estimator:hover {background-color: #d4ebff;}#sk-container-id-7 div.sk-parallel-item::after {content: \"\";width: 100%;border-bottom: 1px solid gray;flex-grow: 1;}#sk-container-id-7 div.sk-label:hover label.sk-toggleable__label {background-color: #d4ebff;}#sk-container-id-7 div.sk-serial::before {content: \"\";position: absolute;border-left: 1px solid gray;box-sizing: border-box;top: 0;bottom: 0;left: 50%;z-index: 0;}#sk-container-id-7 div.sk-serial {display: flex;flex-direction: column;align-items: center;background-color: white;padding-right: 0.2em;padding-left: 0.2em;position: relative;}#sk-container-id-7 div.sk-item {position: relative;z-index: 1;}#sk-container-id-7 div.sk-parallel {display: flex;align-items: stretch;justify-content: center;background-color: white;position: relative;}#sk-container-id-7 div.sk-item::before, #sk-container-id-7 div.sk-parallel-item::before {content: \"\";position: absolute;border-left: 1px solid gray;box-sizing: border-box;top: 0;bottom: 0;left: 50%;z-index: -1;}#sk-container-id-7 div.sk-parallel-item {display: flex;flex-direction: column;z-index: 1;position: relative;background-color: white;}#sk-container-id-7 div.sk-parallel-item:first-child::after {align-self: flex-end;width: 50%;}#sk-container-id-7 div.sk-parallel-item:last-child::after {align-self: flex-start;width: 50%;}#sk-container-id-7 div.sk-parallel-item:only-child::after {width: 0;}#sk-container-id-7 div.sk-dashed-wrapped {border: 1px dashed gray;margin: 0 0.4em 0.5em 0.4em;box-sizing: border-box;padding-bottom: 0.4em;background-color: white;}#sk-container-id-7 div.sk-label label {font-family: monospace;font-weight: bold;display: inline-block;line-height: 1.2em;}#sk-container-id-7 div.sk-label-container {text-align: center;}#sk-container-id-7 div.sk-container {/* jupyter's `normalize.less` sets `[hidden] { display: none; }` but bootstrap.min.css set `[hidden] { display: none !important; }` so we also need the `!important` here to be able to override the default hidden behavior on the sphinx rendered scikit-learn.org. See: https://github.com/scikit-learn/scikit-learn/issues/21755 */display: inline-block !important;position: relative;}#sk-container-id-7 div.sk-text-repr-fallback {display: none;}</style><div id=\"sk-container-id-7\" class=\"sk-top-container\"><div class=\"sk-text-repr-fallback\"><pre>Pipeline(steps=[(&#x27;nystroem&#x27;,\n",
       "                 Nystroem(gamma=0.05, kernel=&#x27;linear&#x27;, n_components=7,\n",
       "                          random_state=123)),\n",
       "                (&#x27;randomforestclassifier&#x27;,\n",
       "                 RandomForestClassifier(max_features=0.9, min_samples_leaf=9,\n",
       "                                        min_samples_split=9, n_estimators=1000,\n",
       "                                        random_state=123))])</pre><b>In a Jupyter environment, please rerun this cell to show the HTML representation or trust the notebook. <br />On GitHub, the HTML representation is unable to render, please try loading this page with nbviewer.org.</b></div><div class=\"sk-container\" hidden><div class=\"sk-item sk-dashed-wrapped\"><div class=\"sk-label-container\"><div class=\"sk-label sk-toggleable\"><input class=\"sk-toggleable__control sk-hidden--visually\" id=\"sk-estimator-id-14\" type=\"checkbox\" ><label for=\"sk-estimator-id-14\" class=\"sk-toggleable__label sk-toggleable__label-arrow\">Pipeline</label><div class=\"sk-toggleable__content\"><pre>Pipeline(steps=[(&#x27;nystroem&#x27;,\n",
       "                 Nystroem(gamma=0.05, kernel=&#x27;linear&#x27;, n_components=7,\n",
       "                          random_state=123)),\n",
       "                (&#x27;randomforestclassifier&#x27;,\n",
       "                 RandomForestClassifier(max_features=0.9, min_samples_leaf=9,\n",
       "                                        min_samples_split=9, n_estimators=1000,\n",
       "                                        random_state=123))])</pre></div></div></div><div class=\"sk-serial\"><div class=\"sk-item\"><div class=\"sk-estimator sk-toggleable\"><input class=\"sk-toggleable__control sk-hidden--visually\" id=\"sk-estimator-id-15\" type=\"checkbox\" ><label for=\"sk-estimator-id-15\" class=\"sk-toggleable__label sk-toggleable__label-arrow\">Nystroem</label><div class=\"sk-toggleable__content\"><pre>Nystroem(gamma=0.05, kernel=&#x27;linear&#x27;, n_components=7, random_state=123)</pre></div></div></div><div class=\"sk-item\"><div class=\"sk-estimator sk-toggleable\"><input class=\"sk-toggleable__control sk-hidden--visually\" id=\"sk-estimator-id-16\" type=\"checkbox\" ><label for=\"sk-estimator-id-16\" class=\"sk-toggleable__label sk-toggleable__label-arrow\">RandomForestClassifier</label><div class=\"sk-toggleable__content\"><pre>RandomForestClassifier(max_features=0.9, min_samples_leaf=9,\n",
       "                       min_samples_split=9, n_estimators=1000,\n",
       "                       random_state=123)</pre></div></div></div></div></div></div></div>"
      ],
      "text/plain": [
       "Pipeline(steps=[('nystroem',\n",
       "                 Nystroem(gamma=0.05, kernel='linear', n_components=7,\n",
       "                          random_state=123)),\n",
       "                ('randomforestclassifier',\n",
       "                 RandomForestClassifier(max_features=0.9, min_samples_leaf=9,\n",
       "                                        min_samples_split=9, n_estimators=1000,\n",
       "                                        random_state=123))])"
      ]
     },
     "execution_count": 43,
     "metadata": {},
     "output_type": "execute_result"
    }
   ],
   "source": [
    "caddisfly_chemistry.best_model"
   ]
  },
  {
   "cell_type": "code",
   "execution_count": 44,
   "metadata": {},
   "outputs": [
    {
     "name": "stdout",
     "output_type": "stream",
     "text": [
      "      mean_var_imp  std_var_imp     perm0     perm1     perm2     perm3  \\\n",
      "pc                                                                        \n",
      "PC0       0.489583     0.075260  0.562500  0.500000  0.416667  0.354167   \n",
      "PC7       0.050000     0.021246  0.083333  0.020833  0.062500  0.041667   \n",
      "PC4       0.050000     0.019094  0.062500  0.062500  0.041667  0.062500   \n",
      "PC19      0.031250     0.019207  0.020833  0.041667  0.000000  0.041667   \n",
      "PC31      0.025000     0.020412  0.041667  0.020833  0.000000  0.062500   \n",
      "PC37      0.022917     0.011219  0.041667  0.020833  0.020833  0.020833   \n",
      "PC20      0.018750     0.017305  0.000000  0.041667  0.000000  0.020833   \n",
      "PC30      0.018750     0.017305  0.041667  0.020833  0.000000  0.000000   \n",
      "PC2       0.018750     0.014583  0.041667  0.020833  0.000000  0.000000   \n",
      "PC10      0.018750     0.014583  0.020833  0.000000  0.041667  0.020833   \n",
      "PC27      0.018750     0.014583  0.000000  0.020833  0.020833  0.000000   \n",
      "PC15      0.018750     0.017305  0.062500  0.020833  0.000000  0.020833   \n",
      "PC34      0.018750     0.011219  0.020833  0.020833  0.020833  0.020833   \n",
      "PC17      0.012500     0.013819  0.020833  0.000000  0.041667  0.000000   \n",
      "PC50      0.012500     0.010206  0.020833  0.020833  0.000000  0.000000   \n",
      "PC8       0.012500     0.010206  0.020833  0.020833  0.000000  0.020833   \n",
      "PC56      0.010417     0.013975  0.020833  0.020833  0.000000  0.000000   \n",
      "PC13      0.008333     0.013819  0.000000  0.000000  0.000000  0.020833   \n",
      "PC32      0.008333     0.013819  0.000000  0.041667  0.000000  0.000000   \n",
      "PC41      0.008333     0.010206  0.000000  0.020833  0.020833  0.000000   \n",
      "PC12      0.008333     0.010206  0.000000  0.020833  0.020833  0.000000   \n",
      "PC5       0.004167     0.008333  0.020833  0.000000  0.020833  0.000000   \n",
      "PC55      0.002083     0.006250  0.000000  0.000000  0.020833  0.000000   \n",
      "PC48      0.000000     0.000000  0.000000  0.000000  0.000000  0.000000   \n",
      "PC42      0.000000     0.000000  0.000000  0.000000  0.000000  0.000000   \n",
      "PC43      0.000000     0.000000  0.000000  0.000000  0.000000  0.000000   \n",
      "PC44      0.000000     0.000000  0.000000  0.000000  0.000000  0.000000   \n",
      "PC45      0.000000     0.000000  0.000000  0.000000  0.000000  0.000000   \n",
      "PC46      0.000000     0.000000  0.000000  0.000000  0.000000  0.000000   \n",
      "PC47      0.000000     0.000000  0.000000  0.000000  0.000000  0.000000   \n",
      "PC16      0.000000     0.000000  0.000000  0.000000  0.000000  0.000000   \n",
      "PC49      0.000000     0.000000  0.000000  0.000000  0.000000  0.000000   \n",
      "PC40      0.000000     0.000000  0.000000  0.000000  0.000000  0.000000   \n",
      "PC51      0.000000     0.000000  0.000000  0.000000  0.000000  0.000000   \n",
      "PC52      0.000000     0.000000  0.000000  0.000000  0.000000  0.000000   \n",
      "PC53      0.000000     0.000000  0.000000  0.000000  0.000000  0.000000   \n",
      "PC54      0.000000     0.000000  0.000000  0.000000  0.000000  0.000000   \n",
      "PC57      0.000000     0.000000  0.000000  0.000000  0.000000  0.000000   \n",
      "PC58      0.000000     0.000000  0.000000  0.000000  0.000000  0.000000   \n",
      "PC11      0.000000     0.000000  0.000000  0.000000  0.000000  0.000000   \n",
      "PC38      0.000000     0.000000  0.000000  0.000000  0.000000  0.000000   \n",
      "PC39      0.000000     0.000000  0.000000  0.000000  0.000000  0.000000   \n",
      "PC26      0.000000     0.000000  0.000000  0.000000  0.000000  0.000000   \n",
      "PC18      0.000000     0.000000  0.000000  0.000000  0.000000  0.000000   \n",
      "PC6       0.000000     0.000000  0.000000  0.000000  0.000000  0.000000   \n",
      "PC21      0.000000     0.000000  0.000000  0.000000  0.000000  0.000000   \n",
      "PC22      0.000000     0.000000  0.000000  0.000000  0.000000  0.000000   \n",
      "PC23      0.000000     0.000000  0.000000  0.000000  0.000000  0.000000   \n",
      "PC24      0.000000     0.000000  0.000000  0.000000  0.000000  0.000000   \n",
      "PC25      0.000000     0.000000  0.000000  0.000000  0.000000  0.000000   \n",
      "PC28      0.000000     0.000000  0.000000  0.000000  0.000000  0.000000   \n",
      "PC14      0.000000     0.000000  0.000000  0.000000  0.000000  0.000000   \n",
      "PC29      0.000000     0.000000  0.000000  0.000000  0.000000  0.000000   \n",
      "PC1       0.000000     0.000000  0.000000  0.000000  0.000000  0.000000   \n",
      "PC3       0.000000     0.000000  0.000000  0.000000  0.000000  0.000000   \n",
      "PC33      0.000000     0.000000  0.000000  0.000000  0.000000  0.000000   \n",
      "PC9       0.000000     0.000000  0.000000  0.000000  0.000000  0.000000   \n",
      "PC35      0.000000     0.000000  0.000000  0.000000  0.000000  0.000000   \n",
      "PC36      0.000000     0.000000  0.000000  0.000000  0.000000  0.000000   \n",
      "PC59      0.000000     0.000000  0.000000  0.000000  0.000000  0.000000   \n",
      "\n",
      "         perm4     perm5     perm6     perm7     perm8     perm9  \n",
      "pc                                                                \n",
      "PC0   0.541667  0.375000  0.562500  0.500000  0.520833  0.562500  \n",
      "PC7   0.041667  0.020833  0.041667  0.062500  0.083333  0.041667  \n",
      "PC4   0.083333  0.020833  0.041667  0.062500  0.020833  0.041667  \n",
      "PC19  0.020833  0.062500  0.020833  0.020833  0.062500  0.020833  \n",
      "PC31  0.020833  0.041667  0.000000  0.000000  0.041667  0.020833  \n",
      "PC37  0.020833  0.000000  0.041667  0.020833  0.020833  0.020833  \n",
      "PC20  0.020833  0.000000  0.041667  0.020833  0.041667  0.000000  \n",
      "PC30  0.020833  0.000000  0.000000  0.041667  0.020833  0.041667  \n",
      "PC2   0.020833  0.041667  0.000000  0.020833  0.020833  0.020833  \n",
      "PC10  0.000000  0.020833  0.000000  0.020833  0.020833  0.041667  \n",
      "PC27  0.041667  0.020833  0.020833  0.000000  0.020833  0.041667  \n",
      "PC15  0.020833  0.000000  0.020833  0.020833  0.020833  0.000000  \n",
      "PC34  0.000000  0.000000  0.020833  0.041667  0.020833  0.020833  \n",
      "PC17  0.000000  0.000000  0.000000  0.020833  0.020833  0.020833  \n",
      "PC50  0.000000  0.000000  0.020833  0.020833  0.020833  0.020833  \n",
      "PC8   0.000000  0.000000  0.020833  0.020833  0.020833  0.000000  \n",
      "PC56  0.000000  0.000000  0.020833  0.000000  0.041667  0.000000  \n",
      "PC13  0.000000  0.000000  0.041667  0.020833  0.000000  0.000000  \n",
      "PC32  0.020833  0.000000  0.020833  0.000000  0.000000  0.000000  \n",
      "PC41  0.020833  0.020833  0.000000  0.000000  0.000000  0.000000  \n",
      "PC12  0.020833  0.000000  0.000000  0.000000  0.000000  0.020833  \n",
      "PC5   0.000000  0.000000  0.000000  0.000000  0.000000  0.000000  \n",
      "PC55  0.000000  0.000000  0.000000  0.000000  0.000000  0.000000  \n",
      "PC48  0.000000  0.000000  0.000000  0.000000  0.000000  0.000000  \n",
      "PC42  0.000000  0.000000  0.000000  0.000000  0.000000  0.000000  \n",
      "PC43  0.000000  0.000000  0.000000  0.000000  0.000000  0.000000  \n",
      "PC44  0.000000  0.000000  0.000000  0.000000  0.000000  0.000000  \n",
      "PC45  0.000000  0.000000  0.000000  0.000000  0.000000  0.000000  \n",
      "PC46  0.000000  0.000000  0.000000  0.000000  0.000000  0.000000  \n",
      "PC47  0.000000  0.000000  0.000000  0.000000  0.000000  0.000000  \n",
      "PC16  0.000000  0.000000  0.000000  0.000000  0.000000  0.000000  \n",
      "PC49  0.000000  0.000000  0.000000  0.000000  0.000000  0.000000  \n",
      "PC40  0.000000  0.000000  0.000000  0.000000  0.000000  0.000000  \n",
      "PC51  0.000000  0.000000  0.000000  0.000000  0.000000  0.000000  \n",
      "PC52  0.000000  0.000000  0.000000  0.000000  0.000000  0.000000  \n",
      "PC53  0.000000  0.000000  0.000000  0.000000  0.000000  0.000000  \n",
      "PC54  0.000000  0.000000  0.000000  0.000000  0.000000  0.000000  \n",
      "PC57  0.000000  0.000000  0.000000  0.000000  0.000000  0.000000  \n",
      "PC58  0.000000  0.000000  0.000000  0.000000  0.000000  0.000000  \n",
      "PC11  0.000000  0.000000  0.000000  0.000000  0.000000  0.000000  \n",
      "PC38  0.000000  0.000000  0.000000  0.000000  0.000000  0.000000  \n",
      "PC39  0.000000  0.000000  0.000000  0.000000  0.000000  0.000000  \n",
      "PC26  0.000000  0.000000  0.000000  0.000000  0.000000  0.000000  \n",
      "PC18  0.000000  0.000000  0.000000  0.000000  0.000000  0.000000  \n",
      "PC6   0.000000  0.000000  0.000000  0.000000  0.000000  0.000000  \n",
      "PC21  0.000000  0.000000  0.000000  0.000000  0.000000  0.000000  \n",
      "PC22  0.000000  0.000000  0.000000  0.000000  0.000000  0.000000  \n",
      "PC23  0.000000  0.000000  0.000000  0.000000  0.000000  0.000000  \n",
      "PC24  0.000000  0.000000  0.000000  0.000000  0.000000  0.000000  \n",
      "PC25  0.000000  0.000000  0.000000  0.000000  0.000000  0.000000  \n",
      "PC28  0.000000  0.000000  0.000000  0.000000  0.000000  0.000000  \n",
      "PC14  0.000000  0.000000  0.000000  0.000000  0.000000  0.000000  \n",
      "PC29  0.000000  0.000000  0.000000  0.000000  0.000000  0.000000  \n",
      "PC1   0.000000  0.000000  0.000000  0.000000  0.000000  0.000000  \n",
      "PC3   0.000000  0.000000  0.000000  0.000000  0.000000  0.000000  \n",
      "PC33  0.000000  0.000000  0.000000  0.000000  0.000000  0.000000  \n",
      "PC9   0.000000  0.000000  0.000000  0.000000  0.000000  0.000000  \n",
      "PC35  0.000000  0.000000  0.000000  0.000000  0.000000  0.000000  \n",
      "PC36  0.000000  0.000000  0.000000  0.000000  0.000000  0.000000  \n",
      "PC59  0.000000  0.000000  0.000000  0.000000  0.000000  0.000000  \n"
     ]
    }
   ],
   "source": [
    "print(caddisfly_chemistry.pc_importances)"
   ]
  },
  {
   "cell_type": "code",
   "execution_count": 45,
   "metadata": {},
   "outputs": [
    {
     "name": "stdout",
     "output_type": "stream",
     "text": [
      "Here are the metabolite names with the top 15 absolute loadings on PC1\n"
     ]
    },
    {
     "data": {
      "text/plain": [
       "['egv',\n",
       " 'so3',\n",
       " 'hco',\n",
       " 'ca',\n",
       " 'random1346',\n",
       " 'random1466',\n",
       " 'cl',\n",
       " 'random74',\n",
       " 'random330',\n",
       " 'random26',\n",
       " 'random1554',\n",
       " 'random1526',\n",
       " 'random586',\n",
       " 'random1090',\n",
       " 'random158']"
      ]
     },
     "execution_count": 45,
     "metadata": {},
     "output_type": "execute_result"
    }
   ],
   "source": [
    "caddisfly_chemistry.get_names_of_top_n_features_from_selected_pc(\n",
    "    selected_pc=1,\n",
    "    top_n=15)"
   ]
  },
  {
   "cell_type": "code",
   "execution_count": 20,
   "metadata": {},
   "outputs": [
    {
     "name": "stdout",
     "output_type": "stream",
     "text": [
      "Here are the metabolite names with the top 15 absolute loadings on PC21\n"
     ]
    },
    {
     "data": {
      "text/plain": [
       "['random34',\n",
       " 'random50',\n",
       " 'random142',\n",
       " 'random138',\n",
       " 'hco',\n",
       " 'random170',\n",
       " 'random46',\n",
       " 'random26',\n",
       " 'random166',\n",
       " 'random98',\n",
       " 'random134',\n",
       " 'random158',\n",
       " 'random126',\n",
       " 'random90',\n",
       " 'random198']"
      ]
     },
     "execution_count": 20,
     "metadata": {},
     "output_type": "execute_result"
    }
   ],
   "source": [
    "caddisfly_chemistry.get_names_of_top_n_features_from_selected_pc(\n",
    "    selected_pc=21,\n",
    "    top_n=15)"
   ]
  }
 ],
 "metadata": {
  "kernelspec": {
   "display_name": "sklearn",
   "language": "python",
   "name": "python3"
  },
  "language_info": {
   "codemirror_mode": {
    "name": "ipython",
    "version": 3
   },
   "file_extension": ".py",
   "mimetype": "text/x-python",
   "name": "python",
   "nbconvert_exporter": "python",
   "pygments_lexer": "ipython3",
   "version": "3.9.16"
  },
  "orig_nbformat": 4
 },
 "nbformat": 4,
 "nbformat_minor": 2
}
