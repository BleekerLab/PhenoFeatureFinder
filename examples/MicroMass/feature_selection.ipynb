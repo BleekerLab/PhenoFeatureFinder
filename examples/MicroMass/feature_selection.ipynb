{
 "cells": [
  {
   "cell_type": "code",
   "execution_count": 1,
   "metadata": {},
   "outputs": [
    {
     "name": "stderr",
     "output_type": "stream",
     "text": [
      "/Users/lissydenkers/miniconda3/envs/sklearn/lib/python3.9/site-packages/tpot/builtins/__init__.py:36: UserWarning: Warning: optional dependency `torch` is not available. - skipping import of NN models.\n",
      "  warnings.warn(\"Warning: optional dependency `torch` is not available. - skipping import of NN models.\")\n"
     ]
    }
   ],
   "source": [
    "import numpy as np\n",
    "\n",
    "import sys\n",
    "sys.path.append('../../src/phloemfinder/')\n",
    "\n",
    "from feature_selection_using_ml import MetabolitePhenotypeFeatureSelection "
   ]
  },
  {
   "cell_type": "code",
   "execution_count": 10,
   "metadata": {},
   "outputs": [],
   "source": [
    "micromass = MetabolitePhenotypeFeatureSelection(\n",
    "    metabolome_csv=\"./filtered_features.csv\",    \n",
    "    phenotype_csv=\"./phenotype.csv\",\n",
    "    phenotype_sample_id='sample_id')"
   ]
  },
  {
   "cell_type": "code",
   "execution_count": 11,
   "metadata": {},
   "outputs": [
    {
     "name": "stdout",
     "output_type": "stream",
     "text": [
      "Metabolome data validated.\n",
      "Phenotype data validated.\n"
     ]
    }
   ],
   "source": [
    "micromass.validate_input_metabolome_df()\n",
    "micromass.validate_input_phenotype_df()"
   ]
  },
  {
   "cell_type": "code",
   "execution_count": 12,
   "metadata": {},
   "outputs": [
    {
     "name": "stdout",
     "output_type": "stream",
     "text": [
      "(599, 571)\n",
      "(571, 1)\n"
     ]
    }
   ],
   "source": [
    "print(micromass.metabolome.shape)\n",
    "print(micromass.phenotype.shape)"
   ]
  },
  {
   "cell_type": "code",
   "execution_count": 13,
   "metadata": {},
   "outputs": [
    {
     "name": "stdout",
     "output_type": "stream",
     "text": [
      "====== Training a basic Random Forest model =======\n",
      "Average balanced_accuracy score on training data is: 97.200 % -/+ 2.00\n",
      "\n",
      "\n",
      "====== Performance on test data of the basic Random Forest model =======\n",
      "Average balanced_accuracy score on test data is: 99.100 %\n"
     ]
    }
   ],
   "source": [
    "micromass.get_baseline_performance(\n",
    "    train_size=0.7,\n",
    "    random_state=123)"
   ]
  },
  {
   "cell_type": "code",
   "execution_count": 15,
   "metadata": {},
   "outputs": [
    {
     "name": "stderr",
     "output_type": "stream",
     "text": [
      "Version 0.12.0 of tpot is outdated. Version 0.12.2 was released Friday February 23, 2024.\n"
     ]
    },
    {
     "name": "stdout",
     "output_type": "stream",
     "text": [
      "                                                                                \n",
      "57.03 minutes have elapsed. TPOT will close down.                               \n",
      "TPOT closed during evaluation in one generation.\n",
      "WARNING: TPOT may not provide a good pipeline if TPOT is stopped/interrupted in a early generation.\n",
      "                                                                                \n",
      "                                                                                \n",
      "TPOT closed prematurely. Will use the current best pipeline.\n",
      "                                                                                \n",
      "Best pipeline: GradientBoostingClassifier(MaxAbsScaler(input_matrix), learning_rate=0.5, max_depth=3, max_features=0.35000000000000003, min_samples_leaf=4, min_samples_split=10, n_estimators=1000, subsample=1.0)\n",
      "============ Performance of ML model on train data =============\n",
      "Train balanced_accuracy score 100.000 %\n",
      "\n",
      "\n",
      "============ Performance of ML model on test data =============\n",
      "                   value\n",
      "balanced_accuracy  0.942\n",
      "precision          0.833\n",
      "recall             0.972\n",
      "f1 score           0.897\n",
      "\n",
      "\n",
      "======== Computing Principal Components importances on the training set =======\n"
     ]
    }
   ],
   "source": [
    "micromass.search_best_model_with_tpot_and_compute_pc_importances(\n",
    "    class_of_interest='positive',\n",
    "    max_time_mins=30,\n",
    "    max_eval_time_mins=6,\n",
    "    random_state=123)"
   ]
  },
  {
   "cell_type": "code",
   "execution_count": 16,
   "metadata": {},
   "outputs": [
    {
     "data": {
      "text/html": [
       "<style>#sk-container-id-1 {color: black;background-color: white;}#sk-container-id-1 pre{padding: 0;}#sk-container-id-1 div.sk-toggleable {background-color: white;}#sk-container-id-1 label.sk-toggleable__label {cursor: pointer;display: block;width: 100%;margin-bottom: 0;padding: 0.3em;box-sizing: border-box;text-align: center;}#sk-container-id-1 label.sk-toggleable__label-arrow:before {content: \"▸\";float: left;margin-right: 0.25em;color: #696969;}#sk-container-id-1 label.sk-toggleable__label-arrow:hover:before {color: black;}#sk-container-id-1 div.sk-estimator:hover label.sk-toggleable__label-arrow:before {color: black;}#sk-container-id-1 div.sk-toggleable__content {max-height: 0;max-width: 0;overflow: hidden;text-align: left;background-color: #f0f8ff;}#sk-container-id-1 div.sk-toggleable__content pre {margin: 0.2em;color: black;border-radius: 0.25em;background-color: #f0f8ff;}#sk-container-id-1 input.sk-toggleable__control:checked~div.sk-toggleable__content {max-height: 200px;max-width: 100%;overflow: auto;}#sk-container-id-1 input.sk-toggleable__control:checked~label.sk-toggleable__label-arrow:before {content: \"▾\";}#sk-container-id-1 div.sk-estimator input.sk-toggleable__control:checked~label.sk-toggleable__label {background-color: #d4ebff;}#sk-container-id-1 div.sk-label input.sk-toggleable__control:checked~label.sk-toggleable__label {background-color: #d4ebff;}#sk-container-id-1 input.sk-hidden--visually {border: 0;clip: rect(1px 1px 1px 1px);clip: rect(1px, 1px, 1px, 1px);height: 1px;margin: -1px;overflow: hidden;padding: 0;position: absolute;width: 1px;}#sk-container-id-1 div.sk-estimator {font-family: monospace;background-color: #f0f8ff;border: 1px dotted black;border-radius: 0.25em;box-sizing: border-box;margin-bottom: 0.5em;}#sk-container-id-1 div.sk-estimator:hover {background-color: #d4ebff;}#sk-container-id-1 div.sk-parallel-item::after {content: \"\";width: 100%;border-bottom: 1px solid gray;flex-grow: 1;}#sk-container-id-1 div.sk-label:hover label.sk-toggleable__label {background-color: #d4ebff;}#sk-container-id-1 div.sk-serial::before {content: \"\";position: absolute;border-left: 1px solid gray;box-sizing: border-box;top: 0;bottom: 0;left: 50%;z-index: 0;}#sk-container-id-1 div.sk-serial {display: flex;flex-direction: column;align-items: center;background-color: white;padding-right: 0.2em;padding-left: 0.2em;position: relative;}#sk-container-id-1 div.sk-item {position: relative;z-index: 1;}#sk-container-id-1 div.sk-parallel {display: flex;align-items: stretch;justify-content: center;background-color: white;position: relative;}#sk-container-id-1 div.sk-item::before, #sk-container-id-1 div.sk-parallel-item::before {content: \"\";position: absolute;border-left: 1px solid gray;box-sizing: border-box;top: 0;bottom: 0;left: 50%;z-index: -1;}#sk-container-id-1 div.sk-parallel-item {display: flex;flex-direction: column;z-index: 1;position: relative;background-color: white;}#sk-container-id-1 div.sk-parallel-item:first-child::after {align-self: flex-end;width: 50%;}#sk-container-id-1 div.sk-parallel-item:last-child::after {align-self: flex-start;width: 50%;}#sk-container-id-1 div.sk-parallel-item:only-child::after {width: 0;}#sk-container-id-1 div.sk-dashed-wrapped {border: 1px dashed gray;margin: 0 0.4em 0.5em 0.4em;box-sizing: border-box;padding-bottom: 0.4em;background-color: white;}#sk-container-id-1 div.sk-label label {font-family: monospace;font-weight: bold;display: inline-block;line-height: 1.2em;}#sk-container-id-1 div.sk-label-container {text-align: center;}#sk-container-id-1 div.sk-container {/* jupyter's `normalize.less` sets `[hidden] { display: none; }` but bootstrap.min.css set `[hidden] { display: none !important; }` so we also need the `!important` here to be able to override the default hidden behavior on the sphinx rendered scikit-learn.org. See: https://github.com/scikit-learn/scikit-learn/issues/21755 */display: inline-block !important;position: relative;}#sk-container-id-1 div.sk-text-repr-fallback {display: none;}</style><div id=\"sk-container-id-1\" class=\"sk-top-container\"><div class=\"sk-text-repr-fallback\"><pre>Pipeline(steps=[(&#x27;maxabsscaler&#x27;, MaxAbsScaler()),\n",
       "                (&#x27;gradientboostingclassifier&#x27;,\n",
       "                 GradientBoostingClassifier(learning_rate=0.5,\n",
       "                                            max_features=0.35000000000000003,\n",
       "                                            min_samples_leaf=4,\n",
       "                                            min_samples_split=10,\n",
       "                                            n_estimators=1000,\n",
       "                                            random_state=123))])</pre><b>In a Jupyter environment, please rerun this cell to show the HTML representation or trust the notebook. <br />On GitHub, the HTML representation is unable to render, please try loading this page with nbviewer.org.</b></div><div class=\"sk-container\" hidden><div class=\"sk-item sk-dashed-wrapped\"><div class=\"sk-label-container\"><div class=\"sk-label sk-toggleable\"><input class=\"sk-toggleable__control sk-hidden--visually\" id=\"sk-estimator-id-1\" type=\"checkbox\" ><label for=\"sk-estimator-id-1\" class=\"sk-toggleable__label sk-toggleable__label-arrow\">Pipeline</label><div class=\"sk-toggleable__content\"><pre>Pipeline(steps=[(&#x27;maxabsscaler&#x27;, MaxAbsScaler()),\n",
       "                (&#x27;gradientboostingclassifier&#x27;,\n",
       "                 GradientBoostingClassifier(learning_rate=0.5,\n",
       "                                            max_features=0.35000000000000003,\n",
       "                                            min_samples_leaf=4,\n",
       "                                            min_samples_split=10,\n",
       "                                            n_estimators=1000,\n",
       "                                            random_state=123))])</pre></div></div></div><div class=\"sk-serial\"><div class=\"sk-item\"><div class=\"sk-estimator sk-toggleable\"><input class=\"sk-toggleable__control sk-hidden--visually\" id=\"sk-estimator-id-2\" type=\"checkbox\" ><label for=\"sk-estimator-id-2\" class=\"sk-toggleable__label sk-toggleable__label-arrow\">MaxAbsScaler</label><div class=\"sk-toggleable__content\"><pre>MaxAbsScaler()</pre></div></div></div><div class=\"sk-item\"><div class=\"sk-estimator sk-toggleable\"><input class=\"sk-toggleable__control sk-hidden--visually\" id=\"sk-estimator-id-3\" type=\"checkbox\" ><label for=\"sk-estimator-id-3\" class=\"sk-toggleable__label sk-toggleable__label-arrow\">GradientBoostingClassifier</label><div class=\"sk-toggleable__content\"><pre>GradientBoostingClassifier(learning_rate=0.5, max_features=0.35000000000000003,\n",
       "                           min_samples_leaf=4, min_samples_split=10,\n",
       "                           n_estimators=1000, random_state=123)</pre></div></div></div></div></div></div></div>"
      ],
      "text/plain": [
       "Pipeline(steps=[('maxabsscaler', MaxAbsScaler()),\n",
       "                ('gradientboostingclassifier',\n",
       "                 GradientBoostingClassifier(learning_rate=0.5,\n",
       "                                            max_features=0.35000000000000003,\n",
       "                                            min_samples_leaf=4,\n",
       "                                            min_samples_split=10,\n",
       "                                            n_estimators=1000,\n",
       "                                            random_state=123))])"
      ]
     },
     "execution_count": 16,
     "metadata": {},
     "output_type": "execute_result"
    }
   ],
   "source": [
    "micromass.best_model"
   ]
  },
  {
   "cell_type": "code",
   "execution_count": 17,
   "metadata": {},
   "outputs": [
    {
     "name": "stdout",
     "output_type": "stream",
     "text": [
      "       mean_var_imp  std_var_imp    perm0     perm1     perm2     perm3  \\\n",
      "pc                                                                        \n",
      "PC0        0.463219     0.016346  0.46079  0.476562  0.487673  0.453698   \n",
      "PC383      0.000000     0.000000  0.00000  0.000000  0.000000  0.000000   \n",
      "PC377      0.000000     0.000000  0.00000  0.000000  0.000000  0.000000   \n",
      "PC378      0.000000     0.000000  0.00000  0.000000  0.000000  0.000000   \n",
      "PC379      0.000000     0.000000  0.00000  0.000000  0.000000  0.000000   \n",
      "...             ...          ...      ...       ...       ...       ...   \n",
      "PC184      0.000000     0.000000  0.00000  0.000000  0.000000  0.000000   \n",
      "PC183      0.000000     0.000000  0.00000  0.000000  0.000000  0.000000   \n",
      "PC182      0.000000     0.000000  0.00000  0.000000  0.000000  0.000000   \n",
      "PC181      0.000000     0.000000  0.00000  0.000000  0.000000  0.000000   \n",
      "PC570      0.000000     0.000000  0.00000  0.000000  0.000000  0.000000   \n",
      "\n",
      "          perm4     perm5     perm6     perm7     perm8     perm9  \n",
      "pc                                                                 \n",
      "PC0    0.467882  0.465181  0.457244  0.434752  0.442688  0.485714  \n",
      "PC383  0.000000  0.000000  0.000000  0.000000  0.000000  0.000000  \n",
      "PC377  0.000000  0.000000  0.000000  0.000000  0.000000  0.000000  \n",
      "PC378  0.000000  0.000000  0.000000  0.000000  0.000000  0.000000  \n",
      "PC379  0.000000  0.000000  0.000000  0.000000  0.000000  0.000000  \n",
      "...         ...       ...       ...       ...       ...       ...  \n",
      "PC184  0.000000  0.000000  0.000000  0.000000  0.000000  0.000000  \n",
      "PC183  0.000000  0.000000  0.000000  0.000000  0.000000  0.000000  \n",
      "PC182  0.000000  0.000000  0.000000  0.000000  0.000000  0.000000  \n",
      "PC181  0.000000  0.000000  0.000000  0.000000  0.000000  0.000000  \n",
      "PC570  0.000000  0.000000  0.000000  0.000000  0.000000  0.000000  \n",
      "\n",
      "[571 rows x 12 columns]\n"
     ]
    }
   ],
   "source": [
    "print(micromass.pc_importances)"
   ]
  },
  {
   "cell_type": "code",
   "execution_count": 18,
   "metadata": {},
   "outputs": [
    {
     "name": "stdout",
     "output_type": "stream",
     "text": [
      "Here are the metabolite names with the top 15 absolute loadings on PC1\n"
     ]
    },
    {
     "data": {
      "text/html": [
       "<div>\n",
       "<style scoped>\n",
       "    .dataframe tbody tr th:only-of-type {\n",
       "        vertical-align: middle;\n",
       "    }\n",
       "\n",
       "    .dataframe tbody tr th {\n",
       "        vertical-align: top;\n",
       "    }\n",
       "\n",
       "    .dataframe thead th {\n",
       "        text-align: right;\n",
       "    }\n",
       "</style>\n",
       "<table border=\"1\" class=\"dataframe\">\n",
       "  <thead>\n",
       "    <tr style=\"text-align: right;\">\n",
       "      <th></th>\n",
       "      <th>feature_name</th>\n",
       "      <th>loading</th>\n",
       "    </tr>\n",
       "  </thead>\n",
       "  <tbody>\n",
       "    <tr>\n",
       "      <th>0</th>\n",
       "      <td>feature_347</td>\n",
       "      <td>0.518913</td>\n",
       "    </tr>\n",
       "    <tr>\n",
       "      <th>1</th>\n",
       "      <td>feature_1129</td>\n",
       "      <td>0.400986</td>\n",
       "    </tr>\n",
       "    <tr>\n",
       "      <th>2</th>\n",
       "      <td>feature_326</td>\n",
       "      <td>0.300760</td>\n",
       "    </tr>\n",
       "    <tr>\n",
       "      <th>3</th>\n",
       "      <td>feature_1080</td>\n",
       "      <td>0.298262</td>\n",
       "    </tr>\n",
       "    <tr>\n",
       "      <th>4</th>\n",
       "      <td>feature_1181</td>\n",
       "      <td>0.264013</td>\n",
       "    </tr>\n",
       "    <tr>\n",
       "      <th>5</th>\n",
       "      <td>feature_1261</td>\n",
       "      <td>0.260016</td>\n",
       "    </tr>\n",
       "    <tr>\n",
       "      <th>6</th>\n",
       "      <td>feature_1163</td>\n",
       "      <td>0.207912</td>\n",
       "    </tr>\n",
       "    <tr>\n",
       "      <th>7</th>\n",
       "      <td>feature_1002</td>\n",
       "      <td>0.153937</td>\n",
       "    </tr>\n",
       "    <tr>\n",
       "      <th>8</th>\n",
       "      <td>feature_579</td>\n",
       "      <td>0.130690</td>\n",
       "    </tr>\n",
       "    <tr>\n",
       "      <th>9</th>\n",
       "      <td>feature_128</td>\n",
       "      <td>0.129153</td>\n",
       "    </tr>\n",
       "    <tr>\n",
       "      <th>10</th>\n",
       "      <td>feature_409</td>\n",
       "      <td>0.112099</td>\n",
       "    </tr>\n",
       "    <tr>\n",
       "      <th>11</th>\n",
       "      <td>feature_463</td>\n",
       "      <td>0.111508</td>\n",
       "    </tr>\n",
       "    <tr>\n",
       "      <th>12</th>\n",
       "      <td>feature_408</td>\n",
       "      <td>0.109612</td>\n",
       "    </tr>\n",
       "    <tr>\n",
       "      <th>13</th>\n",
       "      <td>feature_292</td>\n",
       "      <td>0.100236</td>\n",
       "    </tr>\n",
       "    <tr>\n",
       "      <th>14</th>\n",
       "      <td>feature_484</td>\n",
       "      <td>0.096635</td>\n",
       "    </tr>\n",
       "  </tbody>\n",
       "</table>\n",
       "</div>"
      ],
      "text/plain": [
       "    feature_name   loading\n",
       "0    feature_347  0.518913\n",
       "1   feature_1129  0.400986\n",
       "2    feature_326  0.300760\n",
       "3   feature_1080  0.298262\n",
       "4   feature_1181  0.264013\n",
       "5   feature_1261  0.260016\n",
       "6   feature_1163  0.207912\n",
       "7   feature_1002  0.153937\n",
       "8    feature_579  0.130690\n",
       "9    feature_128  0.129153\n",
       "10   feature_409  0.112099\n",
       "11   feature_463  0.111508\n",
       "12   feature_408  0.109612\n",
       "13   feature_292  0.100236\n",
       "14   feature_484  0.096635"
      ]
     },
     "execution_count": 18,
     "metadata": {},
     "output_type": "execute_result"
    }
   ],
   "source": [
    "micromass.get_names_of_top_n_features_from_selected_pc(\n",
    "    selected_pc=1,\n",
    "    top_n=15)"
   ]
  },
  {
   "cell_type": "code",
   "execution_count": 20,
   "metadata": {},
   "outputs": [
    {
     "name": "stdout",
     "output_type": "stream",
     "text": [
      "Here are the metabolite names with the top 15 absolute loadings on PC21\n"
     ]
    },
    {
     "data": {
      "text/plain": [
       "['random34',\n",
       " 'random50',\n",
       " 'random142',\n",
       " 'random138',\n",
       " 'hco',\n",
       " 'random170',\n",
       " 'random46',\n",
       " 'random26',\n",
       " 'random166',\n",
       " 'random98',\n",
       " 'random134',\n",
       " 'random158',\n",
       " 'random126',\n",
       " 'random90',\n",
       " 'random198']"
      ]
     },
     "execution_count": 20,
     "metadata": {},
     "output_type": "execute_result"
    }
   ],
   "source": [
    "caddisfly_chemistry.get_names_of_top_n_features_from_selected_pc(\n",
    "    selected_pc=21,\n",
    "    top_n=15)"
   ]
  }
 ],
 "metadata": {
  "kernelspec": {
   "display_name": "sklearn",
   "language": "python",
   "name": "python3"
  },
  "language_info": {
   "codemirror_mode": {
    "name": "ipython",
    "version": 3
   },
   "file_extension": ".py",
   "mimetype": "text/x-python",
   "name": "python",
   "nbconvert_exporter": "python",
   "pygments_lexer": "ipython3",
   "version": "3.9.16"
  },
  "orig_nbformat": 4
 },
 "nbformat": 4,
 "nbformat_minor": 2
}
