{
 "cells": [
  {
   "cell_type": "code",
   "execution_count": 12,
   "metadata": {},
   "outputs": [],
   "source": [
    "import numpy as np\n",
    "\n",
    "import sys\n",
    "sys.path.append('../../src/phloemfinder/')\n",
    "\n",
    "from feature_selection_using_ml import MetabolitePhenotypeFeatureSelection "
   ]
  },
  {
   "cell_type": "code",
   "execution_count": 13,
   "metadata": {},
   "outputs": [],
   "source": [
    "caddisfly_chemistry = MetabolitePhenotypeFeatureSelection(\n",
    "    metabolome_csv=\"../caddisfly/filetered_features_water_chemistry_long_random_correlated.csv\",    \n",
    "    phenotype_csv=\"../caddisfly/phenotypes_for_feature_selection_long.csv\",\n",
    "    phenotype_sample_id='sample_id')"
   ]
  },
  {
   "cell_type": "code",
   "execution_count": 14,
   "metadata": {},
   "outputs": [
    {
     "name": "stdout",
     "output_type": "stream",
     "text": [
      "Metabolome data validated.\n",
      "Phenotype data validated.\n"
     ]
    }
   ],
   "source": [
    "caddisfly_chemistry.validate_input_metabolome_df()\n",
    "caddisfly_chemistry.validate_input_phenotype_df()"
   ]
  },
  {
   "cell_type": "code",
   "execution_count": 15,
   "metadata": {},
   "outputs": [
    {
     "name": "stdout",
     "output_type": "stream",
     "text": [
      "====== Training a basic Random Forest model =======\n",
      "Average balanced_accuracy score on training data is: 100.000 % -/+ 0.00\n",
      "\n",
      "\n",
      "====== Performance on test data of the basic Random Forest model =======\n",
      "Average balanced_accuracy score on test data is: 100.000 %\n"
     ]
    }
   ],
   "source": [
    "caddisfly_chemistry.get_baseline_performance(\n",
    "    class_of_interest='limburg',\n",
    "    train_size=0.7,\n",
    "    random_state=123)"
   ]
  },
  {
   "cell_type": "code",
   "execution_count": 9,
   "metadata": {},
   "outputs": [
    {
     "name": "stderr",
     "output_type": "stream",
     "text": [
      "Version 0.12.0 of tpot is outdated. Version 0.12.1 was released Tuesday August 15, 2023.\n"
     ]
    },
    {
     "name": "stdout",
     "output_type": "stream",
     "text": [
      "                                                                              \n",
      "Generation 1 - Current best internal CV score: 1.0\n",
      "                                                                              \n",
      "Generation 2 - Current best internal CV score: 1.0\n",
      "                                                                              \n",
      "Generation 3 - Current best internal CV score: 1.0\n",
      "                                                                              \n",
      "Generation 4 - Current best internal CV score: 1.0\n",
      "                                                                              \n",
      "Generation 5 - Current best internal CV score: 1.0\n",
      "                                                                              \n",
      "Generation 6 - Current best internal CV score: 1.0\n",
      "                                                                              \n",
      "Generation 7 - Current best internal CV score: 1.0\n",
      "                                                                              \n",
      "Generation 8 - Current best internal CV score: 1.0\n",
      "                                                                                \n",
      "Generation 9 - Current best internal CV score: 1.0\n",
      "                                                                                \n",
      "Generation 10 - Current best internal CV score: 1.0\n",
      "                                                                                \n",
      "Generation 11 - Current best internal CV score: 1.0\n",
      "                                                                                \n",
      "Generation 12 - Current best internal CV score: 1.0\n",
      "                                                                                \n",
      "Generation 13 - Current best internal CV score: 1.0\n",
      "                                                                                \n",
      "Generation 14 - Current best internal CV score: 1.0\n",
      "                                                                                \n",
      "Generation 15 - Current best internal CV score: 1.0\n",
      "                                                                                \n",
      "Generation 16 - Current best internal CV score: 1.0\n",
      "                                                                                \n",
      "Generation 17 - Current best internal CV score: 1.0\n",
      "                                                                                \n",
      "Generation 18 - Current best internal CV score: 1.0\n",
      "                                                                                \n",
      "Generation 19 - Current best internal CV score: 1.0\n",
      "                                                                                \n",
      "Generation 20 - Current best internal CV score: 1.0\n",
      "                                                                                \n",
      "Generation 21 - Current best internal CV score: 1.0\n",
      "                                                                                \n",
      "Generation 22 - Current best internal CV score: 1.0\n",
      "                                                                                \n",
      "Generation 23 - Current best internal CV score: 1.0\n",
      "                                                                                \n",
      "Generation 24 - Current best internal CV score: 1.0\n",
      "                                                                                \n",
      "Generation 25 - Current best internal CV score: 1.0\n",
      "                                                                                \n",
      "Generation 26 - Current best internal CV score: 1.0\n",
      "                                                                                \n",
      "Generation 27 - Current best internal CV score: 1.0\n",
      "                                                                                \n",
      "Generation 28 - Current best internal CV score: 1.0\n",
      "                                                                                \n",
      "Generation 29 - Current best internal CV score: 1.0\n",
      "                                                                                \n",
      "Generation 30 - Current best internal CV score: 1.0\n",
      "                                                                                \n",
      "Generation 31 - Current best internal CV score: 1.0\n",
      "                                                                                \n",
      "Generation 32 - Current best internal CV score: 1.0\n",
      "                                                                                \n",
      "Generation 33 - Current best internal CV score: 1.0\n",
      "                                                                                \n",
      "30.00 minutes have elapsed. TPOT will close down.                               \n",
      "TPOT closed during evaluation in one generation.\n",
      "WARNING: TPOT may not provide a good pipeline if TPOT is stopped/interrupted in a early generation.\n",
      "                                                                                \n",
      "                                                                                \n",
      "TPOT closed prematurely. Will use the current best pipeline.\n",
      "                                                                                \n",
      "Best pipeline: RandomForestClassifier(Nystroem(input_matrix, gamma=0.05, kernel=sigmoid, n_components=4), bootstrap=False, criterion=gini, max_features=0.2, min_samples_leaf=16, min_samples_split=18, n_estimators=1000)\n",
      "============ Performance of ML model on train data =============\n",
      "Train balanced_accuracy score 93.800 %\n",
      "\n",
      "\n",
      "============ Performance of ML model on test data =============\n",
      "                   value\n",
      "balanced_accuracy    1.0\n",
      "precision            1.0\n",
      "recall               1.0\n",
      "f1 score             1.0\n",
      "\n",
      "\n",
      "======== Computing Principal Components importances on the training set =======\n"
     ]
    }
   ],
   "source": [
    "caddisfly_chemistry.search_best_model_with_tpot_and_compute_pc_importances(\n",
    "    class_of_interest='limburg',\n",
    "    max_time_mins=30,\n",
    "    max_eval_time_mins=6,\n",
    "    random_state=123)"
   ]
  },
  {
   "cell_type": "code",
   "execution_count": 10,
   "metadata": {},
   "outputs": [
    {
     "data": {
      "text/html": [
       "<style>#sk-container-id-2 {color: black;background-color: white;}#sk-container-id-2 pre{padding: 0;}#sk-container-id-2 div.sk-toggleable {background-color: white;}#sk-container-id-2 label.sk-toggleable__label {cursor: pointer;display: block;width: 100%;margin-bottom: 0;padding: 0.3em;box-sizing: border-box;text-align: center;}#sk-container-id-2 label.sk-toggleable__label-arrow:before {content: \"▸\";float: left;margin-right: 0.25em;color: #696969;}#sk-container-id-2 label.sk-toggleable__label-arrow:hover:before {color: black;}#sk-container-id-2 div.sk-estimator:hover label.sk-toggleable__label-arrow:before {color: black;}#sk-container-id-2 div.sk-toggleable__content {max-height: 0;max-width: 0;overflow: hidden;text-align: left;background-color: #f0f8ff;}#sk-container-id-2 div.sk-toggleable__content pre {margin: 0.2em;color: black;border-radius: 0.25em;background-color: #f0f8ff;}#sk-container-id-2 input.sk-toggleable__control:checked~div.sk-toggleable__content {max-height: 200px;max-width: 100%;overflow: auto;}#sk-container-id-2 input.sk-toggleable__control:checked~label.sk-toggleable__label-arrow:before {content: \"▾\";}#sk-container-id-2 div.sk-estimator input.sk-toggleable__control:checked~label.sk-toggleable__label {background-color: #d4ebff;}#sk-container-id-2 div.sk-label input.sk-toggleable__control:checked~label.sk-toggleable__label {background-color: #d4ebff;}#sk-container-id-2 input.sk-hidden--visually {border: 0;clip: rect(1px 1px 1px 1px);clip: rect(1px, 1px, 1px, 1px);height: 1px;margin: -1px;overflow: hidden;padding: 0;position: absolute;width: 1px;}#sk-container-id-2 div.sk-estimator {font-family: monospace;background-color: #f0f8ff;border: 1px dotted black;border-radius: 0.25em;box-sizing: border-box;margin-bottom: 0.5em;}#sk-container-id-2 div.sk-estimator:hover {background-color: #d4ebff;}#sk-container-id-2 div.sk-parallel-item::after {content: \"\";width: 100%;border-bottom: 1px solid gray;flex-grow: 1;}#sk-container-id-2 div.sk-label:hover label.sk-toggleable__label {background-color: #d4ebff;}#sk-container-id-2 div.sk-serial::before {content: \"\";position: absolute;border-left: 1px solid gray;box-sizing: border-box;top: 0;bottom: 0;left: 50%;z-index: 0;}#sk-container-id-2 div.sk-serial {display: flex;flex-direction: column;align-items: center;background-color: white;padding-right: 0.2em;padding-left: 0.2em;position: relative;}#sk-container-id-2 div.sk-item {position: relative;z-index: 1;}#sk-container-id-2 div.sk-parallel {display: flex;align-items: stretch;justify-content: center;background-color: white;position: relative;}#sk-container-id-2 div.sk-item::before, #sk-container-id-2 div.sk-parallel-item::before {content: \"\";position: absolute;border-left: 1px solid gray;box-sizing: border-box;top: 0;bottom: 0;left: 50%;z-index: -1;}#sk-container-id-2 div.sk-parallel-item {display: flex;flex-direction: column;z-index: 1;position: relative;background-color: white;}#sk-container-id-2 div.sk-parallel-item:first-child::after {align-self: flex-end;width: 50%;}#sk-container-id-2 div.sk-parallel-item:last-child::after {align-self: flex-start;width: 50%;}#sk-container-id-2 div.sk-parallel-item:only-child::after {width: 0;}#sk-container-id-2 div.sk-dashed-wrapped {border: 1px dashed gray;margin: 0 0.4em 0.5em 0.4em;box-sizing: border-box;padding-bottom: 0.4em;background-color: white;}#sk-container-id-2 div.sk-label label {font-family: monospace;font-weight: bold;display: inline-block;line-height: 1.2em;}#sk-container-id-2 div.sk-label-container {text-align: center;}#sk-container-id-2 div.sk-container {/* jupyter's `normalize.less` sets `[hidden] { display: none; }` but bootstrap.min.css set `[hidden] { display: none !important; }` so we also need the `!important` here to be able to override the default hidden behavior on the sphinx rendered scikit-learn.org. See: https://github.com/scikit-learn/scikit-learn/issues/21755 */display: inline-block !important;position: relative;}#sk-container-id-2 div.sk-text-repr-fallback {display: none;}</style><div id=\"sk-container-id-2\" class=\"sk-top-container\"><div class=\"sk-text-repr-fallback\"><pre>Pipeline(steps=[(&#x27;nystroem&#x27;,\n",
       "                 Nystroem(gamma=0.05, kernel=&#x27;sigmoid&#x27;, n_components=4,\n",
       "                          random_state=123)),\n",
       "                (&#x27;randomforestclassifier&#x27;,\n",
       "                 RandomForestClassifier(bootstrap=False, max_features=0.2,\n",
       "                                        min_samples_leaf=16,\n",
       "                                        min_samples_split=18, n_estimators=1000,\n",
       "                                        random_state=123))])</pre><b>In a Jupyter environment, please rerun this cell to show the HTML representation or trust the notebook. <br />On GitHub, the HTML representation is unable to render, please try loading this page with nbviewer.org.</b></div><div class=\"sk-container\" hidden><div class=\"sk-item sk-dashed-wrapped\"><div class=\"sk-label-container\"><div class=\"sk-label sk-toggleable\"><input class=\"sk-toggleable__control sk-hidden--visually\" id=\"sk-estimator-id-4\" type=\"checkbox\" ><label for=\"sk-estimator-id-4\" class=\"sk-toggleable__label sk-toggleable__label-arrow\">Pipeline</label><div class=\"sk-toggleable__content\"><pre>Pipeline(steps=[(&#x27;nystroem&#x27;,\n",
       "                 Nystroem(gamma=0.05, kernel=&#x27;sigmoid&#x27;, n_components=4,\n",
       "                          random_state=123)),\n",
       "                (&#x27;randomforestclassifier&#x27;,\n",
       "                 RandomForestClassifier(bootstrap=False, max_features=0.2,\n",
       "                                        min_samples_leaf=16,\n",
       "                                        min_samples_split=18, n_estimators=1000,\n",
       "                                        random_state=123))])</pre></div></div></div><div class=\"sk-serial\"><div class=\"sk-item\"><div class=\"sk-estimator sk-toggleable\"><input class=\"sk-toggleable__control sk-hidden--visually\" id=\"sk-estimator-id-5\" type=\"checkbox\" ><label for=\"sk-estimator-id-5\" class=\"sk-toggleable__label sk-toggleable__label-arrow\">Nystroem</label><div class=\"sk-toggleable__content\"><pre>Nystroem(gamma=0.05, kernel=&#x27;sigmoid&#x27;, n_components=4, random_state=123)</pre></div></div></div><div class=\"sk-item\"><div class=\"sk-estimator sk-toggleable\"><input class=\"sk-toggleable__control sk-hidden--visually\" id=\"sk-estimator-id-6\" type=\"checkbox\" ><label for=\"sk-estimator-id-6\" class=\"sk-toggleable__label sk-toggleable__label-arrow\">RandomForestClassifier</label><div class=\"sk-toggleable__content\"><pre>RandomForestClassifier(bootstrap=False, max_features=0.2, min_samples_leaf=16,\n",
       "                       min_samples_split=18, n_estimators=1000,\n",
       "                       random_state=123)</pre></div></div></div></div></div></div></div>"
      ],
      "text/plain": [
       "Pipeline(steps=[('nystroem',\n",
       "                 Nystroem(gamma=0.05, kernel='sigmoid', n_components=4,\n",
       "                          random_state=123)),\n",
       "                ('randomforestclassifier',\n",
       "                 RandomForestClassifier(bootstrap=False, max_features=0.2,\n",
       "                                        min_samples_leaf=16,\n",
       "                                        min_samples_split=18, n_estimators=1000,\n",
       "                                        random_state=123))])"
      ]
     },
     "execution_count": 10,
     "metadata": {},
     "output_type": "execute_result"
    }
   ],
   "source": [
    "caddisfly_chemistry.best_model"
   ]
  },
  {
   "cell_type": "code",
   "execution_count": 11,
   "metadata": {},
   "outputs": [
    {
     "name": "stdout",
     "output_type": "stream",
     "text": [
      "      mean_var_imp  std_var_imp     perm0     perm1     perm2     perm3  \\\n",
      "pc                                                                        \n",
      "PC0   4.229167e-01     0.073391  0.437500  0.458333  0.333333  0.291667   \n",
      "PC18  2.708333e-02     0.020937  0.000000  0.041667  0.020833  0.020833   \n",
      "PC11  2.291667e-02     0.019654  0.020833  0.020833  0.041667  0.000000   \n",
      "PC42  2.083333e-02     0.000000  0.020833  0.020833  0.020833  0.020833   \n",
      "PC23  2.083333e-02     0.013176  0.020833  0.041667  0.020833  0.020833   \n",
      "PC10  1.875000e-02     0.017305  0.000000  0.020833  0.020833  0.000000   \n",
      "PC29  1.666667e-02     0.012500  0.020833  0.020833  0.000000  0.020833   \n",
      "PC28  1.666667e-02     0.008333  0.020833  0.020833  0.020833  0.020833   \n",
      "PC6   1.666667e-02     0.026021  0.000000  0.020833  0.020833  0.000000   \n",
      "PC1   1.458333e-02     0.016271  0.020833  0.020833  0.020833 -0.020833   \n",
      "PC17  1.250000e-02     0.016667  0.000000 -0.020833  0.000000  0.020833   \n",
      "PC56  1.041667e-02     0.010417  0.020833  0.020833  0.000000  0.000000   \n",
      "PC39  1.041667e-02     0.013975 -0.020833  0.020833  0.020833  0.020833   \n",
      "PC26  1.041667e-02     0.010417  0.020833  0.020833  0.000000  0.000000   \n",
      "PC9   1.041667e-02     0.010417  0.020833  0.000000  0.020833  0.020833   \n",
      "PC53  8.333333e-03     0.010206  0.020833  0.000000  0.000000  0.000000   \n",
      "PC31  8.333333e-03     0.013819  0.020833  0.000000  0.020833 -0.020833   \n",
      "PC30  8.333333e-03     0.010206  0.020833  0.000000  0.000000  0.000000   \n",
      "PC34  8.333333e-03     0.013819  0.000000  0.000000  0.000000  0.020833   \n",
      "PC21  6.250000e-03     0.016271  0.000000  0.041667  0.000000  0.000000   \n",
      "PC58  6.250000e-03     0.009547  0.020833  0.000000  0.000000  0.000000   \n",
      "PC33  4.166667e-03     0.008333  0.000000  0.000000  0.000000  0.000000   \n",
      "PC43  2.083333e-03     0.025430  0.020833  0.020833 -0.020833  0.041667   \n",
      "PC37  2.083333e-03     0.017305 -0.020833  0.020833 -0.020833  0.000000   \n",
      "PC25  2.083333e-03     0.006250  0.000000  0.000000  0.020833  0.000000   \n",
      "PC32  2.083333e-03     0.017305 -0.020833 -0.020833  0.000000  0.020833   \n",
      "PC41  0.000000e+00     0.016137  0.000000 -0.020833  0.000000  0.000000   \n",
      "PC46  0.000000e+00     0.000000  0.000000  0.000000  0.000000  0.000000   \n",
      "PC50  0.000000e+00     0.009317  0.000000  0.000000  0.000000  0.020833   \n",
      "PC59  0.000000e+00     0.000000  0.000000  0.000000  0.000000  0.000000   \n",
      "PC54  0.000000e+00     0.009317  0.020833  0.000000  0.000000 -0.020833   \n",
      "PC55  0.000000e+00     0.009317  0.000000  0.000000  0.000000  0.000000   \n",
      "PC24  0.000000e+00     0.009317 -0.020833  0.000000  0.020833  0.000000   \n",
      "PC57  0.000000e+00     0.009317  0.000000  0.000000 -0.020833  0.000000   \n",
      "PC52  0.000000e+00     0.000000  0.000000  0.000000  0.000000  0.000000   \n",
      "PC19 -1.110223e-17     0.013176  0.020833  0.000000  0.020833  0.000000   \n",
      "PC20 -2.220446e-17     0.020833  0.041667 -0.020833 -0.020833  0.020833   \n",
      "PC51 -2.083333e-03     0.011219  0.000000  0.000000  0.020833  0.000000   \n",
      "PC48 -2.083333e-03     0.006250  0.000000  0.000000  0.000000  0.000000   \n",
      "PC27 -4.166667e-03     0.018162  0.020833  0.020833 -0.020833  0.020833   \n",
      "PC45 -4.166667e-03     0.015590  0.000000  0.000000 -0.020833 -0.020833   \n",
      "PC16 -4.166667e-03     0.015590  0.000000  0.000000  0.000000  0.000000   \n",
      "PC15 -4.166667e-03     0.008333  0.000000  0.000000  0.000000 -0.020833   \n",
      "PC13 -4.166667e-03     0.008333  0.000000  0.000000  0.000000  0.000000   \n",
      "PC36 -4.166667e-03     0.018162  0.000000 -0.020833  0.000000 -0.020833   \n",
      "PC2  -4.166667e-03     0.026021  0.000000  0.000000  0.041667 -0.020833   \n",
      "PC47 -6.250000e-03     0.013340 -0.020833  0.000000  0.000000  0.000000   \n",
      "PC22 -8.333333e-03     0.010206 -0.020833  0.000000  0.000000  0.000000   \n",
      "PC40 -8.333333e-03     0.010206  0.000000  0.000000 -0.020833  0.000000   \n",
      "PC14 -8.333333e-03     0.016667  0.000000  0.000000 -0.020833 -0.041667   \n",
      "PC44 -1.041667e-02     0.010417  0.000000 -0.020833 -0.020833  0.000000   \n",
      "PC12 -1.041667e-02     0.010417  0.000000 -0.020833 -0.020833 -0.020833   \n",
      "PC4  -1.250000e-02     0.032543  0.020833  0.000000 -0.020833 -0.041667   \n",
      "PC38 -1.250000e-02     0.010206 -0.020833  0.000000 -0.020833 -0.020833   \n",
      "PC7  -1.458333e-02     0.009547 -0.020833  0.000000 -0.020833 -0.020833   \n",
      "PC49 -1.458333e-02     0.013340 -0.020833 -0.020833 -0.020833  0.000000   \n",
      "PC8  -1.458333e-02     0.020937  0.020833 -0.041667 -0.020833 -0.020833   \n",
      "PC5  -1.875000e-02     0.017305 -0.041667 -0.020833 -0.020833 -0.020833   \n",
      "PC35 -2.083333e-02     0.016137  0.000000 -0.041667 -0.020833 -0.020833   \n",
      "PC3  -3.125000e-02     0.019207 -0.062500  0.000000 -0.020833 -0.020833   \n",
      "\n",
      "         perm4     perm5     perm6     perm7     perm8     perm9  \n",
      "pc                                                                \n",
      "PC0   0.437500  0.333333  0.479167  0.437500  0.500000  0.520833  \n",
      "PC18  0.020833  0.020833  0.062500  0.000000  0.062500  0.020833  \n",
      "PC11  0.000000  0.020833  0.020833  0.000000  0.041667  0.062500  \n",
      "PC42  0.020833  0.020833  0.020833  0.020833  0.020833  0.020833  \n",
      "PC23  0.000000  0.020833  0.041667  0.000000  0.020833  0.020833  \n",
      "PC10  0.000000  0.000000  0.041667  0.041667  0.041667  0.020833  \n",
      "PC29  0.020833  0.020833  0.041667  0.000000  0.020833  0.000000  \n",
      "PC28  0.020833  0.020833  0.000000  0.020833  0.020833  0.000000  \n",
      "PC6   0.020833  0.020833  0.020833 -0.041667  0.041667  0.062500  \n",
      "PC1   0.000000  0.000000  0.041667  0.020833  0.020833  0.020833  \n",
      "PC17  0.020833  0.020833  0.020833  0.020833  0.041667  0.000000  \n",
      "PC56  0.020833  0.000000  0.020833  0.000000  0.020833  0.000000  \n",
      "PC39  0.020833  0.000000  0.020833  0.000000  0.020833  0.000000  \n",
      "PC26  0.020833  0.020833  0.000000  0.020833  0.000000  0.000000  \n",
      "PC9   0.000000  0.000000  0.000000  0.020833  0.000000  0.020833  \n",
      "PC53  0.000000  0.000000  0.020833  0.020833  0.020833  0.000000  \n",
      "PC31  0.000000  0.020833  0.020833  0.000000  0.020833  0.000000  \n",
      "PC30  0.000000  0.000000  0.020833  0.000000  0.020833  0.020833  \n",
      "PC34  0.020833  0.000000  0.020833  0.020833  0.020833 -0.020833  \n",
      "PC21  0.020833  0.000000  0.000000  0.020833  0.000000 -0.020833  \n",
      "PC58  0.000000  0.020833  0.000000  0.020833  0.000000  0.000000  \n",
      "PC33  0.000000  0.000000  0.020833  0.000000  0.020833  0.000000  \n",
      "PC43 -0.020833  0.020833 -0.020833  0.020833 -0.041667  0.000000  \n",
      "PC37  0.020833  0.000000 -0.020833  0.020833  0.000000  0.020833  \n",
      "PC25  0.000000  0.000000  0.000000  0.000000  0.000000  0.000000  \n",
      "PC32 -0.020833  0.000000  0.020833  0.020833  0.020833  0.000000  \n",
      "PC41 -0.020833  0.000000  0.020833  0.020833  0.020833 -0.020833  \n",
      "PC46  0.000000  0.000000  0.000000  0.000000  0.000000  0.000000  \n",
      "PC50  0.000000  0.000000 -0.020833  0.000000  0.000000  0.000000  \n",
      "PC59  0.000000  0.000000  0.000000  0.000000  0.000000  0.000000  \n",
      "PC54  0.000000  0.000000  0.000000  0.000000  0.000000  0.000000  \n",
      "PC55  0.000000  0.000000 -0.020833  0.000000  0.000000  0.020833  \n",
      "PC24  0.000000  0.000000  0.000000  0.000000  0.000000  0.000000  \n",
      "PC57  0.000000  0.000000  0.000000  0.000000  0.000000  0.020833  \n",
      "PC52  0.000000  0.000000  0.000000  0.000000  0.000000  0.000000  \n",
      "PC19  0.000000  0.000000  0.000000 -0.020833  0.000000 -0.020833  \n",
      "PC20  0.000000  0.000000 -0.020833  0.000000  0.020833 -0.020833  \n",
      "PC51  0.000000 -0.020833  0.000000  0.000000  0.000000 -0.020833  \n",
      "PC48  0.000000  0.000000  0.000000 -0.020833  0.000000  0.000000  \n",
      "PC27  0.000000  0.000000 -0.020833 -0.020833 -0.020833 -0.020833  \n",
      "PC45  0.000000  0.020833 -0.020833  0.020833 -0.020833  0.000000  \n",
      "PC16  0.020833 -0.041667 -0.020833  0.000000  0.000000  0.000000  \n",
      "PC15  0.000000 -0.020833  0.000000  0.000000  0.000000  0.000000  \n",
      "PC13  0.000000 -0.020833  0.000000 -0.020833  0.000000  0.000000  \n",
      "PC36 -0.020833 -0.020833  0.020833 -0.020833  0.020833  0.020833  \n",
      "PC2  -0.041667 -0.041667  0.000000 -0.020833  0.020833  0.020833  \n",
      "PC47  0.000000 -0.020833 -0.020833 -0.020833  0.000000  0.020833  \n",
      "PC22 -0.020833  0.000000  0.000000  0.000000 -0.020833 -0.020833  \n",
      "PC40 -0.020833  0.000000 -0.020833  0.000000  0.000000 -0.020833  \n",
      "PC14  0.020833  0.000000 -0.020833  0.000000 -0.020833  0.000000  \n",
      "PC44 -0.020833 -0.020833 -0.020833  0.000000  0.000000  0.000000  \n",
      "PC12  0.000000  0.000000 -0.020833  0.000000 -0.020833  0.000000  \n",
      "PC4   0.041667  0.020833 -0.062500  0.000000 -0.041667 -0.041667  \n",
      "PC38 -0.020833 -0.020833  0.000000  0.000000  0.000000 -0.020833  \n",
      "PC7  -0.020833 -0.020833  0.000000 -0.020833  0.000000 -0.020833  \n",
      "PC49 -0.020833 -0.020833 -0.020833 -0.020833 -0.020833  0.020833  \n",
      "PC8  -0.020833  0.000000 -0.020833  0.020833 -0.020833 -0.041667  \n",
      "PC5   0.000000 -0.041667  0.000000  0.000000 -0.041667  0.000000  \n",
      "PC35 -0.041667 -0.041667 -0.020833 -0.020833  0.000000  0.000000  \n",
      "PC3  -0.041667  0.000000 -0.041667 -0.041667 -0.041667 -0.041667  \n"
     ]
    }
   ],
   "source": [
    "print(caddisfly_chemistry.pc_importances)"
   ]
  },
  {
   "cell_type": "code",
   "execution_count": 8,
   "metadata": {},
   "outputs": [
    {
     "name": "stdout",
     "output_type": "stream",
     "text": [
      "Here are the metabolite names with the top 15 absolute loadings on PC1\n"
     ]
    },
    {
     "data": {
      "text/plain": [
       "['egv',\n",
       " 'so3',\n",
       " 'hco',\n",
       " 'ca',\n",
       " 'cl',\n",
       " 'correlated68',\n",
       " 'correlated84',\n",
       " 'correlated85',\n",
       " 'correlated91',\n",
       " 'correlated93',\n",
       " 'correlated72',\n",
       " 'correlated13',\n",
       " 'correlated67',\n",
       " 'correlated19',\n",
       " 'correlated61']"
      ]
     },
     "execution_count": 8,
     "metadata": {},
     "output_type": "execute_result"
    }
   ],
   "source": [
    "caddisfly_chemistry.get_names_of_top_n_features_from_selected_pc(\n",
    "    selected_pc=1,\n",
    "    top_n=15)"
   ]
  },
  {
   "cell_type": "code",
   "execution_count": 20,
   "metadata": {},
   "outputs": [
    {
     "name": "stdout",
     "output_type": "stream",
     "text": [
      "Here are the metabolite names with the top 15 absolute loadings on PC21\n"
     ]
    },
    {
     "data": {
      "text/plain": [
       "['random34',\n",
       " 'random50',\n",
       " 'random142',\n",
       " 'random138',\n",
       " 'hco',\n",
       " 'random170',\n",
       " 'random46',\n",
       " 'random26',\n",
       " 'random166',\n",
       " 'random98',\n",
       " 'random134',\n",
       " 'random158',\n",
       " 'random126',\n",
       " 'random90',\n",
       " 'random198']"
      ]
     },
     "execution_count": 20,
     "metadata": {},
     "output_type": "execute_result"
    }
   ],
   "source": [
    "caddisfly_chemistry.get_names_of_top_n_features_from_selected_pc(\n",
    "    selected_pc=21,\n",
    "    top_n=15)"
   ]
  }
 ],
 "metadata": {
  "kernelspec": {
   "display_name": "sklearn",
   "language": "python",
   "name": "python3"
  },
  "language_info": {
   "codemirror_mode": {
    "name": "ipython",
    "version": 3
   },
   "file_extension": ".py",
   "mimetype": "text/x-python",
   "name": "python",
   "nbconvert_exporter": "python",
   "pygments_lexer": "ipython3",
   "version": "3.9.16"
  },
  "orig_nbformat": 4
 },
 "nbformat": 4,
 "nbformat_minor": 2
}
